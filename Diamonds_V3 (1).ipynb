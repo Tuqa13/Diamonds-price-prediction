{
  "nbformat": 4,
  "nbformat_minor": 5,
  "metadata": {
    "kernelspec": {
      "display_name": "Python 3 (ipykernel)",
      "language": "python",
      "name": "python3"
    },
    "language_info": {
      "codemirror_mode": {
        "name": "ipython",
        "version": 3
      },
      "file_extension": ".py",
      "mimetype": "text/x-python",
      "name": "python",
      "nbconvert_exporter": "python",
      "pygments_lexer": "ipython3",
      "version": "3.7.2"
    },
    "colab": {
      "name": "Diamonds_V3.ipynb",
      "provenance": []
    }
  },
  "cells": [
    {
      "cell_type": "code",
      "metadata": {
        "id": "73edbeea"
      },
      "source": [
        "import pandas as pd\n",
        "import numpy as np\n",
        "diamonds = pd.read_csv(\"/content/diamonds.csv\")\n",
        "diamonds.head()"
      ],
      "id": "73edbeea",
      "execution_count": null,
      "outputs": []
    },
    {
      "cell_type": "raw",
      "metadata": {
        "id": "a76fe09b"
      },
      "source": [
        "What we are going to do?\n",
        "we will predict the diamond price, using the diamonds.csv dataset\n",
        "so we are working on a Supervided (labeled data), Batch (offline data), Model based (we are not creating a class)"
      ],
      "id": "a76fe09b"
    },
    {
      "cell_type": "markdown",
      "metadata": {
        "id": "36daf66a"
      },
      "source": [
        "### Step 1: pre-start"
      ],
      "id": "36daf66a"
    },
    {
      "cell_type": "code",
      "metadata": {
        "id": "d98eeb8b"
      },
      "source": [
        "#remove the indixing column\n",
        "diamonds = diamonds.drop('Unnamed: 0', axis=1)\n",
        "diamonds.columns"
      ],
      "id": "d98eeb8b",
      "execution_count": null,
      "outputs": []
    },
    {
      "cell_type": "markdown",
      "metadata": {
        "id": "abaed9ce"
      },
      "source": [
        "### Step 2: See the data info:"
      ],
      "id": "abaed9ce"
    },
    {
      "cell_type": "code",
      "metadata": {
        "id": "634c5ee2"
      },
      "source": [
        "#what are the attributes?\n",
        "diamonds.info()"
      ],
      "id": "634c5ee2",
      "execution_count": null,
      "outputs": []
    },
    {
      "cell_type": "code",
      "metadata": {
        "id": "5762bf45"
      },
      "source": [
        "#see more info about the numeric attributes\n",
        "diamonds.describe()"
      ],
      "id": "5762bf45",
      "execution_count": null,
      "outputs": []
    },
    {
      "cell_type": "raw",
      "metadata": {
        "id": "9cf161e4"
      },
      "source": [
        "What to notice?\n",
        "We have +50K rows of data, so if we use LinearRgression it will not underfit\n",
        "non of the rows empty (null) values\n",
        "We have 11 columns:\n",
        "'Unnamed: 0' : indexing, not important we can drop it\n",
        "'cut', 'color', 'clarity': Text values, we will deal with ut usign encoding\n",
        "'x', 'y', 'z': numeric, we will combine to get the size od the diamond\n",
        "\n",
        "'price': numeric: the feature that we want to predict\n",
        "\n",
        "we can see that the minimium value of x, y, z is 0\n",
        "we must drop the lines if there count is small\n",
        "or we should replace it with the mean or the meadian"
      ],
      "id": "9cf161e4"
    },
    {
      "cell_type": "code",
      "metadata": {
        "id": "fa4bc7cb"
      },
      "source": [
        "#how many rows have 0 values for x or y or z:\n",
        "diamonds[(diamonds['y'] == 0) | (diamonds['x'] == 0) | (diamonds['z'] == 0)].shape"
      ],
      "id": "fa4bc7cb",
      "execution_count": null,
      "outputs": []
    },
    {
      "cell_type": "markdown",
      "metadata": {
        "id": "efec48e1"
      },
      "source": [
        "so we only have 20 rows from +50K rows, lets drop it"
      ],
      "id": "efec48e1"
    },
    {
      "cell_type": "code",
      "metadata": {
        "id": "bda6aa2e"
      },
      "source": [
        "diamonds = diamonds[(diamonds['y'] != 0) & (diamonds['x'] != 0) & (diamonds['z'] != 0)]\n",
        "#reindixing the data\n",
        "diamonds.index = np.arange(0,53920)\n",
        "\n",
        "diamonds.shape\n",
        "#53940-20=53920 .... OK"
      ],
      "id": "bda6aa2e",
      "execution_count": null,
      "outputs": []
    },
    {
      "cell_type": "code",
      "metadata": {
        "id": "52e7c968"
      },
      "source": [
        "diamonds.isna().count()\n",
        "# very doog"
      ],
      "id": "52e7c968",
      "execution_count": null,
      "outputs": []
    },
    {
      "cell_type": "code",
      "metadata": {
        "id": "56976b4d"
      },
      "source": [
        "#lets look now at the linear relation strength between different attributes\n",
        "diamonds.corr()"
      ],
      "id": "56976b4d",
      "execution_count": null,
      "outputs": []
    },
    {
      "cell_type": "raw",
      "metadata": {
        "id": "cc0a22a2"
      },
      "source": [
        "We can see the strong relation between 'price' and ('carat', 'x', 'y' ,'z')"
      ],
      "id": "cc0a22a2"
    },
    {
      "cell_type": "markdown",
      "metadata": {
        "id": "10c905a3"
      },
      "source": [
        "Let's take a ghraphical look at the data:"
      ],
      "id": "10c905a3"
    },
    {
      "cell_type": "code",
      "metadata": {
        "id": "2f7e58e4"
      },
      "source": [
        "diamonds.hist(bins=50, figsize=(20,15))"
      ],
      "id": "2f7e58e4",
      "execution_count": null,
      "outputs": []
    },
    {
      "cell_type": "markdown",
      "metadata": {
        "id": "4a9cd59b"
      },
      "source": [
        "Notice that prices varies so musch, we may need to standarize them"
      ],
      "id": "4a9cd59b"
    },
    {
      "cell_type": "code",
      "metadata": {
        "id": "858ab16f"
      },
      "source": [
        "#a nother look at the correlation:\n",
        "import seaborn as sns\n",
        "sns.heatmap(data = diamonds.corr(), square = True, annot = True, cmap = 'BuPu')"
      ],
      "id": "858ab16f",
      "execution_count": null,
      "outputs": []
    },
    {
      "cell_type": "code",
      "metadata": {
        "id": "81b89029"
      },
      "source": [
        "from pandas.plotting import scatter_matrix\n",
        "attributes = [\"price\", \"table\", \"depth\"]\n",
        "scatter_matrix(diamonds[attributes], figsize=(20, 20))"
      ],
      "id": "81b89029",
      "execution_count": null,
      "outputs": []
    },
    {
      "cell_type": "raw",
      "metadata": {
        "id": "d5facd39"
      },
      "source": [
        "as we see before there is not strong linear relation between prices and table or depth"
      ],
      "id": "d5facd39"
    },
    {
      "cell_type": "code",
      "metadata": {
        "id": "4c06230e"
      },
      "source": [
        "from pandas.plotting import scatter_matrix\n",
        "attributes = [\"price\", \"x\", \"y\", \"z\"]\n",
        "scatter_matrix(diamonds[attributes], figsize=(20, 20))"
      ],
      "id": "4c06230e",
      "execution_count": null,
      "outputs": []
    },
    {
      "cell_type": "code",
      "metadata": {
        "id": "9be3b2a4"
      },
      "source": [
        ""
      ],
      "id": "9be3b2a4",
      "execution_count": null,
      "outputs": []
    },
    {
      "cell_type": "code",
      "metadata": {
        "id": "3245503f"
      },
      "source": [
        "#a deeper look at the price, carat diagram\n",
        "diamonds.plot(kind=\"scatter\", x=\"carat\", y=\"price\", alpha=0.1)"
      ],
      "id": "3245503f",
      "execution_count": null,
      "outputs": []
    },
    {
      "cell_type": "code",
      "metadata": {
        "id": "6a7cfb63"
      },
      "source": [
        "sns.factorplot( data = diamonds, x = 'cut', kind = 'count', aspect =2)"
      ],
      "id": "6a7cfb63",
      "execution_count": null,
      "outputs": []
    },
    {
      "cell_type": "code",
      "metadata": {
        "id": "9susNS4L_Edx"
      },
      "source": [
        "sns.factorplot( data = diamonds, x = 'clarity', kind = 'count', aspect =2.5)"
      ],
      "id": "9susNS4L_Edx",
      "execution_count": null,
      "outputs": []
    },
    {
      "cell_type": "code",
      "metadata": {
        "id": "6P9smDOG_NQm"
      },
      "source": [
        "sns.factorplot( data = diamonds, x = 'color', kind = 'count', aspect =2.5)"
      ],
      "id": "6P9smDOG_NQm",
      "execution_count": null,
      "outputs": []
    },
    {
      "cell_type": "code",
      "metadata": {
        "id": "c0-mhxvS_Qbu"
      },
      "source": [
        "sns.factorplot( data = diamonds, x = 'cut', y = 'price', kind = 'box', aspect =2.5)"
      ],
      "id": "c0-mhxvS_Qbu",
      "execution_count": null,
      "outputs": []
    },
    {
      "cell_type": "code",
      "metadata": {
        "id": "t_TCiyc9_UDV"
      },
      "source": [
        "sns.factorplot(x = 'clarity', y = 'price', data = diamonds, kind = 'box', aspect = 2.5)"
      ],
      "id": "t_TCiyc9_UDV",
      "execution_count": null,
      "outputs": []
    },
    {
      "cell_type": "markdown",
      "metadata": {
        "id": "9672a01c"
      },
      "source": [
        "Untill now we've seen the numeric attributs, let see the Text attributes: 'cut', 'color', 'clarity':"
      ],
      "id": "9672a01c"
    },
    {
      "cell_type": "code",
      "metadata": {
        "id": "bf536060"
      },
      "source": [
        "diamonds['cut'].unique()\n",
        "# we have 5 features, related to each other so that we can tidy them like:\n",
        "# ['Fair' , 'Good', 'Very Good','Premium', 'Ideal']\n",
        "# we should use ordinal encoding"
      ],
      "id": "bf536060",
      "execution_count": null,
      "outputs": []
    },
    {
      "cell_type": "code",
      "metadata": {
        "id": "73072120"
      },
      "source": [
        "# let's see how many times each feature repeated?\n",
        "diamonds['cut'].value_counts()"
      ],
      "id": "73072120",
      "execution_count": null,
      "outputs": []
    },
    {
      "cell_type": "code",
      "metadata": {
        "id": "62d18260"
      },
      "source": [
        "diamonds['clarity'].unique()\n",
        "# we have 8 features, related to each other so that we can tidy them like:\n",
        "# ['Fair' , 'Good', 'Very Good','Premium', 'Ideal']\n",
        "# we should use ordinal encoding"
      ],
      "id": "62d18260",
      "execution_count": null,
      "outputs": []
    },
    {
      "cell_type": "code",
      "metadata": {
        "id": "0314647e"
      },
      "source": [
        "# let's see how many times each feature repeated?\n",
        "diamonds['clarity'].value_counts()"
      ],
      "id": "0314647e",
      "execution_count": null,
      "outputs": []
    },
    {
      "cell_type": "code",
      "metadata": {
        "id": "0585ff69"
      },
      "source": [
        "diamonds['color'].unique()\n",
        "# we have 7 features, does not related to each other so we should use OneHot encoding"
      ],
      "id": "0585ff69",
      "execution_count": null,
      "outputs": []
    },
    {
      "cell_type": "code",
      "metadata": {
        "id": "393036d7"
      },
      "source": [
        "diamonds.head()"
      ],
      "id": "393036d7",
      "execution_count": null,
      "outputs": []
    },
    {
      "cell_type": "markdown",
      "metadata": {
        "id": "2619b168"
      },
      "source": [
        "# Convert the Text attibutes"
      ],
      "id": "2619b168"
    },
    {
      "cell_type": "code",
      "metadata": {
        "id": "be653f65"
      },
      "source": [
        "# 'cut'\n",
        "diamonds_cut = diamonds[[\"cut\"]]\n",
        "from sklearn.preprocessing import OrdinalEncoder\n",
        "cut_ordinal_encoder = OrdinalEncoder()\n",
        "diamonds_cut_encoded = cut_ordinal_encoder.fit_transform(diamonds_cut)\n",
        "\n",
        "\n",
        "#You  can  get  the  list  of  categories  using  the  categories_  instance  variable.  \n",
        "print(cut_ordinal_encoder.categories)\n",
        "diamonds_cut_encoded"
      ],
      "id": "be653f65",
      "execution_count": null,
      "outputs": []
    },
    {
      "cell_type": "code",
      "metadata": {
        "id": "de7eb0f5"
      },
      "source": [
        "# 'color'\n",
        "diamonds_color = diamonds[[\"color\"]]\n",
        "from sklearn.preprocessing import OrdinalEncoder\n",
        "color_ordinal_encoder = OrdinalEncoder()\n",
        "diamonds_color_encoded = color_ordinal_encoder.fit_transform(diamonds_color)\n",
        "\n",
        "print(color_ordinal_encoder.categories_)"
      ],
      "id": "de7eb0f5",
      "execution_count": null,
      "outputs": []
    },
    {
      "cell_type": "code",
      "metadata": {
        "id": "ddfc2ae4"
      },
      "source": [
        "# 'clarity'\n",
        "diamonds_clarity = diamonds[[\"clarity\"]]\n",
        "from sklearn.preprocessing import OneHotEncoder\n",
        "clarity_OneHot_encoder = OneHotEncoder()\n",
        "diamonds_clarity_encoded = clarity_OneHot_encoder.fit_transform(diamonds_clarity)\n",
        "\n",
        "print(clarity_OneHot_encoder.categories_)"
      ],
      "id": "ddfc2ae4",
      "execution_count": null,
      "outputs": []
    },
    {
      "cell_type": "code",
      "metadata": {
        "id": "1aae5d15"
      },
      "source": [
        "diamonds.head()"
      ],
      "id": "1aae5d15",
      "execution_count": null,
      "outputs": []
    },
    {
      "cell_type": "code",
      "metadata": {
        "id": "8c9eb4c6"
      },
      "source": [
        "#replace the columns\n",
        "diamonds_prepared = diamonds.copy()\n",
        "diamonds_prepared"
      ],
      "id": "8c9eb4c6",
      "execution_count": null,
      "outputs": []
    },
    {
      "cell_type": "code",
      "metadata": {
        "id": "2cc105ae"
      },
      "source": [
        "diamonds_prepared.drop(['cut', 'color', 'clarity'], axis=1, inplace=True)\n",
        "\n",
        "diamonds_num = diamonds_prepared.copy()\n",
        "\n",
        "diamonds_prepared['size']=diamonds_prepared['x']*diamonds_prepared['y']*diamonds_prepared['z']\n",
        "diamonds_prepared['area']=diamonds_prepared['x']*diamonds_prepared['y']\n",
        "\n",
        "arr_diamonds_clarity_encoded = diamonds_clarity_encoded.toarray()\n",
        "\n",
        "diamonds_cut_pd = pd.DataFrame(diamonds_cut_encoded)\n",
        "diamonds_color_pd = pd.DataFrame(diamonds_color_encoded)\n",
        "diamonds_clarity_pd = pd.DataFrame(arr_diamonds_clarity_encoded)"
      ],
      "id": "2cc105ae",
      "execution_count": null,
      "outputs": []
    },
    {
      "cell_type": "code",
      "metadata": {
        "id": "258b6c9d"
      },
      "source": [
        "print(diamonds_prepared)\n",
        "print(diamonds_cut_pd)\n",
        "#diamonds_prepared['cut'] = diamonds_cut_pd\n",
        "diamonds_prepared.describe()"
      ],
      "id": "258b6c9d",
      "execution_count": null,
      "outputs": []
    },
    {
      "cell_type": "code",
      "metadata": {
        "id": "a3f723b6"
      },
      "source": [
        "diamonds_prepared['color'] = diamonds_color_pd"
      ],
      "id": "a3f723b6",
      "execution_count": null,
      "outputs": []
    },
    {
      "cell_type": "code",
      "metadata": {
        "id": "51c7b9a1"
      },
      "source": [
        "diamonds_prepared= diamonds_prepared.join(diamonds_clarity_pd)\n",
        "diamonds_prepared.head()"
      ],
      "id": "51c7b9a1",
      "execution_count": null,
      "outputs": []
    },
    {
      "cell_type": "code",
      "metadata": {
        "id": "1ef2327a"
      },
      "source": [
        ""
      ],
      "id": "1ef2327a",
      "execution_count": null,
      "outputs": []
    },
    {
      "cell_type": "code",
      "metadata": {
        "id": "297023d4"
      },
      "source": [
        "#a nother look at the correlation:\n",
        "corr = diamonds_prepared.corr()\n",
        "corr['price'].sort_values(ascending=False)"
      ],
      "id": "297023d4",
      "execution_count": null,
      "outputs": []
    },
    {
      "cell_type": "markdown",
      "metadata": {
        "id": "10371bef"
      },
      "source": [
        "notice the stong relation between size and \n",
        "Dealing with the outliers:"
      ],
      "id": "10371bef"
    },
    {
      "cell_type": "code",
      "metadata": {
        "id": "98162996"
      },
      "source": [
        "import seaborn as sns\n",
        "sns.boxplot(x=\"price\", y='cut', data=diamonds)"
      ],
      "id": "98162996",
      "execution_count": null,
      "outputs": []
    },
    {
      "cell_type": "code",
      "metadata": {
        "id": "fa2675f6"
      },
      "source": [
        "import seaborn as sns\n",
        "sns.boxplot(x=\"price\", y=\"clarity\", data=diamonds)"
      ],
      "id": "fa2675f6",
      "execution_count": null,
      "outputs": []
    },
    {
      "cell_type": "code",
      "metadata": {
        "id": "b6a50c24"
      },
      "source": [
        "import seaborn as sns\n",
        "sns.boxplot(x=\"price\", y=\"color\", data=diamonds)"
      ],
      "id": "b6a50c24",
      "execution_count": null,
      "outputs": []
    },
    {
      "cell_type": "code",
      "metadata": {
        "id": "rrU2WERiTChB"
      },
      "source": [
        "import matplotlib.pyplot as plt\n",
        "labels = diamonds.clarity.unique().tolist()\n",
        "sizes = diamonds.clarity.value_counts().tolist()\n",
        "colors = ['#006400', '#E40E00', '#A00994', '#613205', '#FFED0D', '#16F5A7','#ff9999','#66b3ff']\n",
        "explode = (0.1, 0.0, 0.1, 0, 0.1, 0, 0.1,0)\n",
        "plt.pie(sizes, explode=explode, labels=labels, colors=colors,autopct='%1.1f%%', shadow=True, startangle=0)\n",
        "plt.axis('equal')\n",
        "plt.plot()\n",
        "fig=plt.gcf()\n",
        "plt.show()"
      ],
      "id": "rrU2WERiTChB",
      "execution_count": null,
      "outputs": []
    },
    {
      "cell_type": "markdown",
      "metadata": {
        "id": "35679e53"
      },
      "source": [
        "# To Do"
      ],
      "id": "35679e53"
    },
    {
      "cell_type": "markdown",
      "metadata": {
        "id": "9ef6131c"
      },
      "source": [
        "### better relation fo size attribute?..."
      ],
      "id": "9ef6131c"
    },
    {
      "cell_type": "markdown",
      "metadata": {
        "id": "c4b91933"
      },
      "source": [
        "### who to tide ordinal encoder?..."
      ],
      "id": "c4b91933"
    },
    {
      "cell_type": "markdown",
      "metadata": {
        "id": "90b56be8"
      },
      "source": [
        "### Who to remove outliers?...."
      ],
      "id": "90b56be8"
    },
    {
      "cell_type": "markdown",
      "metadata": {
        "id": "6d05da72"
      },
      "source": [
        "# Split data for training"
      ],
      "id": "6d05da72"
    },
    {
      "cell_type": "code",
      "metadata": {
        "id": "6a79067b"
      },
      "source": [
        "diamonds_prepared_num = diamonds_prepared.drop(\"price\", axis=1) # we will use this DataFrame later\n",
        "\n",
        "from sklearn.model_selection import train_test_split\n",
        "train_set, test_set= train_test_split(diamonds_prepared, test_size=0.2, random_state=42)\n",
        "\n",
        "final_train_labels = train_set['price'].copy()\n",
        "final_train_set = train_set.drop(['price'], axis=1)\n",
        "\n",
        "final_test_labels = test_set['price'].copy()\n",
        "final_test_set = test_set.drop(['price'], axis=1)\n",
        "\n",
        "train_set.head()"
      ],
      "id": "6a79067b",
      "execution_count": null,
      "outputs": []
    },
    {
      "cell_type": "code",
      "metadata": {
        "id": "f57ad315"
      },
      "source": [
        "final_train_set.info()"
      ],
      "id": "f57ad315",
      "execution_count": null,
      "outputs": []
    },
    {
      "cell_type": "code",
      "metadata": {
        "id": "9e6a0f8e"
      },
      "source": [
        "final_train_set.isna().count()"
      ],
      "id": "9e6a0f8e",
      "execution_count": null,
      "outputs": []
    },
    {
      "cell_type": "code",
      "metadata": {
        "scrolled": true,
        "id": "3594a7c5"
      },
      "source": [
        "print(final_train_set.shape)\n",
        "final_train_set.describe()"
      ],
      "id": "3594a7c5",
      "execution_count": null,
      "outputs": []
    },
    {
      "cell_type": "code",
      "metadata": {
        "id": "342626e1"
      },
      "source": [
        "final_train_set[final_train_set['y'] > 40]"
      ],
      "id": "342626e1",
      "execution_count": null,
      "outputs": []
    },
    {
      "cell_type": "code",
      "metadata": {
        "id": "8afdabcb"
      },
      "source": [
        "print(final_train_labels.shape)\n",
        "final_train_labels.head()"
      ],
      "id": "8afdabcb",
      "execution_count": null,
      "outputs": []
    },
    {
      "cell_type": "markdown",
      "metadata": {
        "id": "a748f175"
      },
      "source": [
        "## LinearRegression"
      ],
      "id": "a748f175"
    },
    {
      "cell_type": "code",
      "metadata": {
        "id": "4ebe7f86"
      },
      "source": [
        "from sklearn.linear_model import LinearRegression\n",
        "from sklearn.metrics import mean_squared_error, r2_score\n",
        "import numpy as np\n",
        "\n",
        "lin_reg = LinearRegression()\n",
        "lin_reg.fit(final_train_set, final_train_labels)\n",
        "LinearRegression(copy_X=True, fit_intercept=True, n_jobs=None, normalize=False)\n",
        "diamonds_predictions = lin_reg.predict(final_test_set)\n",
        "lin_mse = mean_squared_error(final_test_labels, diamonds_predictions)\n",
        "lin_rmse = np.sqrt(lin_mse)\n",
        "\n",
        "print(\"MSR:        % 0.2f \" %  lin_rmse)\n",
        "print(\"mean:      % 0.2f \" %  final_test_labels.mean())\n",
        "print(\"min:         % 0.2f \" % final_test_labels.min())\n",
        "print(\"max:        % 0.2f \" %  final_test_labels.max())"
      ],
      "id": "4ebe7f86",
      "execution_count": null,
      "outputs": []
    },
    {
      "cell_type": "code",
      "metadata": {
        "id": "f8b2ec7d"
      },
      "source": [
        ""
      ],
      "id": "f8b2ec7d",
      "execution_count": null,
      "outputs": []
    },
    {
      "cell_type": "markdown",
      "metadata": {
        "id": "c0eb1559"
      },
      "source": [
        "## DecisionTreeRegressor"
      ],
      "id": "c0eb1559"
    },
    {
      "cell_type": "code",
      "metadata": {
        "id": "0879be97"
      },
      "source": [
        "from sklearn.tree import DecisionTreeRegressor\n",
        "from sklearn.metrics import mean_squared_error\n",
        "import numpy as np\n",
        "\n",
        "tree_reg = DecisionTreeRegressor(random_state=42)\n",
        "tree_reg.fit(final_train_set, final_train_labels)\n",
        "diamonds_predictions = tree_reg.predict(final_test_set)\n",
        "tree_mse = mean_squared_error(final_test_labels, diamonds_predictions)\n",
        "tree_rmse = np.sqrt(tree_mse)\n",
        "\n",
        "print(\"MSR:        % 0.2f \" %  tree_rmse)"
      ],
      "id": "0879be97",
      "execution_count": null,
      "outputs": []
    },
    {
      "cell_type": "markdown",
      "metadata": {
        "id": "d377f229"
      },
      "source": [
        "## cross_val_score"
      ],
      "id": "d377f229"
    },
    {
      "cell_type": "code",
      "metadata": {
        "id": "fd35fc70"
      },
      "source": [
        "from sklearn.model_selection import cross_val_score\n",
        "\n",
        "scores = cross_val_score(tree_reg, final_train_set, final_train_set, scoring=\"neg_mean_squared_error\", cv=10)\n",
        "tree_rmse_scores = np.sqrt(-scores)"
      ],
      "id": "fd35fc70",
      "execution_count": null,
      "outputs": []
    },
    {
      "cell_type": "code",
      "metadata": {
        "id": "eb706569"
      },
      "source": [
        "def display_scores(scores):\n",
        "  print(\"Scores: \", scores)\n",
        "  print(\"Mean: \", scores.mean())\n",
        "  print(\"Standard deviation\", scores.std())"
      ],
      "id": "eb706569",
      "execution_count": null,
      "outputs": []
    },
    {
      "cell_type": "code",
      "metadata": {
        "id": "16b17f3b"
      },
      "source": [
        "display_scores(tree_rmse_scores)"
      ],
      "id": "16b17f3b",
      "execution_count": null,
      "outputs": []
    },
    {
      "cell_type": "code",
      "metadata": {
        "id": "db767dad"
      },
      "source": [
        "from sklearn.model_selection import cross_val_score\n",
        "lin_scores = cross_val_score(lin_reg,final_train_set, final_train_labels, scoring=\"neg_mean_squared_error\",cv=10)\n",
        "lin_rese_scores = np.sqrt(-lin_scores)\n",
        "\n",
        "display_scores(lin_rese_scores)"
      ],
      "id": "db767dad",
      "execution_count": null,
      "outputs": []
    },
    {
      "cell_type": "raw",
      "metadata": {
        "id": "ca4c90a3"
      },
      "source": [
        "#Random\n",
        "# CODE HERE\n",
        "from sklearn.ensemble import RandomForestRegressor\n",
        "\n",
        "forest_reg = RandomForestRegressor(random_state=42)\n",
        "forest_reg.fit(final_train_set, final_train_labels)\n",
        "\n",
        "forest_scores = cross_val_score(forest_reg, , scoring=\"neg_mean_squared_error\",cv=10)\n",
        "forest_rese_scores = np.sqrt(-forest_scores)\n",
        "\n",
        "display_scores(forest_scores)"
      ],
      "id": "ca4c90a3"
    },
    {
      "cell_type": "markdown",
      "metadata": {
        "id": "967898d2"
      },
      "source": [
        "# Fine you model"
      ],
      "id": "967898d2"
    },
    {
      "cell_type": "code",
      "metadata": {
        "colab": {
          "base_uri": "https://localhost:8080/"
        },
        "id": "1e7ba4a7",
        "outputId": "18d660d6-5ee6-4e36-c627-80a424768131"
      },
      "source": [
        "from sklearn.model_selection import GridSearchCV\n",
        "from sklearn.ensemble import RandomForestRegressor\n",
        "\n",
        "param_grid = [\n",
        "              {'n_estimators':[3,10,30], 'max_features': [2,4,6,8]}, \n",
        "              {'bootstrap': [False], 'n_estimators': [3,10], 'max_features':[2,3,4]},\n",
        "              ]\n",
        "forest_reg = RandomForestRegressor(random_state=42)\n",
        "\n",
        "grid_search = GridSearchCV(forest_reg, param_grid, cv=5, scoring='neg_mean_squared_error', return_train_score=True)\n",
        "grid_search.fit(final_train_set, final_train_labels)\n",
        "\n",
        "diamonds_predictions = grid_search.predict(final_test_set)\n",
        "grid_mse = mean_squared_error(final_test_labels, diamonds_predictions)\n",
        "grid_rmse = np.sqrt(grid_mse)\n",
        "\n",
        "print(\"MSR:        % 0.2f \" %  grid_rmse)"
      ],
      "id": "1e7ba4a7",
      "execution_count": 119,
      "outputs": [
        {
          "output_type": "stream",
          "text": [
            "MSR:         535.57 \n"
          ],
          "name": "stdout"
        }
      ]
    },
    {
      "cell_type": "code",
      "metadata": {
        "colab": {
          "base_uri": "https://localhost:8080/"
        },
        "id": "22ff2e32",
        "outputId": "588eea03-1efe-4eb4-daa8-eaf4abca303d"
      },
      "source": [
        "grid_search.best_params_\n",
        "\n",
        "grid_search.best_estimator_\n",
        "\n",
        "cvers = grid_search.cv_results_\n",
        "\n",
        "for mean_srore, params in zip(cvers[\"mean_test_score\"], cvers[\"params\"]):\n",
        "  print(np.sqrt(-mean_srore), params)"
      ],
      "id": "22ff2e32",
      "execution_count": 120,
      "outputs": [
        {
          "output_type": "stream",
          "text": [
            "817.7274559933992 {'max_features': 2, 'n_estimators': 3}\n",
            "681.0203712319792 {'max_features': 2, 'n_estimators': 10}\n",
            "647.5665668103007 {'max_features': 2, 'n_estimators': 30}\n",
            "711.942002470978 {'max_features': 4, 'n_estimators': 3}\n",
            "622.3603851622819 {'max_features': 4, 'n_estimators': 10}\n",
            "591.7545404432731 {'max_features': 4, 'n_estimators': 30}\n",
            "682.0229994413908 {'max_features': 6, 'n_estimators': 3}\n",
            "603.2848391254541 {'max_features': 6, 'n_estimators': 10}\n",
            "575.5980353880889 {'max_features': 6, 'n_estimators': 30}\n",
            "657.4983066130238 {'max_features': 8, 'n_estimators': 3}\n",
            "590.5590097728265 {'max_features': 8, 'n_estimators': 10}\n",
            "566.9279597239292 {'max_features': 8, 'n_estimators': 30}\n",
            "777.2454516462395 {'bootstrap': False, 'max_features': 2, 'n_estimators': 3}\n",
            "658.4532468477772 {'bootstrap': False, 'max_features': 2, 'n_estimators': 10}\n",
            "724.4510332433148 {'bootstrap': False, 'max_features': 3, 'n_estimators': 3}\n",
            "631.340312089648 {'bootstrap': False, 'max_features': 3, 'n_estimators': 10}\n",
            "672.7703565674466 {'bootstrap': False, 'max_features': 4, 'n_estimators': 3}\n",
            "610.0332273972163 {'bootstrap': False, 'max_features': 4, 'n_estimators': 10}\n"
          ],
          "name": "stdout"
        }
      ]
    },
    {
      "cell_type": "markdown",
      "metadata": {
        "id": "10b3a32c"
      },
      "source": [
        "# Analyze the model"
      ],
      "id": "10b3a32c"
    },
    {
      "cell_type": "code",
      "metadata": {
        "colab": {
          "base_uri": "https://localhost:8080/"
        },
        "id": "4045d67a",
        "outputId": "810dee4b-6bd0-43a3-f7c8-97bab87d6a76"
      },
      "source": [
        "feature_importances = grid_search.best_estimator_.feature_importances_\n",
        "feature_importances\n",
        "\n",
        "\"\"\"\n",
        "1-get the predictors and the labels from your test set\n",
        "\"\"\"\n",
        "\n",
        "# CODE HERE\n",
        "final_predictions = grid_search.predict(final_test_set)\n",
        "\n",
        "\"\"\"2-run your full_pipeline to transform the data\"\"\"\n",
        "\n",
        "# CODE HERE\n",
        "final_mse = mean_squared_error(final_test_labels, final_predictions)\n",
        "\n",
        "\"\"\"3-evaluate the final model on the test set\"\"\"\n",
        "\n",
        "# CODE HERE\n",
        "final_rmse = np.sqrt(final_mse)\n",
        "final_rmse"
      ],
      "id": "4045d67a",
      "execution_count": 121,
      "outputs": [
        {
          "output_type": "execute_result",
          "data": {
            "text/plain": [
              "535.5652963298558"
            ]
          },
          "metadata": {},
          "execution_count": 121
        }
      ]
    }
  ]
}